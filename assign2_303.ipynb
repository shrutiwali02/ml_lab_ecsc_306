{
 "cells": [
  {
   "cell_type": "code",
   "execution_count": null,
   "metadata": {
    "collapsed": true
   },
   "outputs": [],
   "source": [
    "import tensorflow as tf\n",
    "x=tf.constant([1.0, 2.0, 3.0, 4.0, 5.0, 6.0],name='x')\n",
    "y=tf.constant([7.0, 8.0, 9.0, 10.0, 11.0, 12.0],name='y')\n",
    "with tf.name_scope(\"ArrayFloat\"):\n",
    "    with tf.name_scope(\"Scope_B\"):\n",
    "        \n",
    "         mean = tf.reduce_mean(a)\n",
    "with tf.Session() as sess:\n",
    "    result = sess.run(mean)\n",
    "    print(result)\n",
    "    \n",
    "    "
   ]
  },
  {
   "cell_type": "code",
   "execution_count": null,
   "metadata": {
    "collapsed": true
   },
   "outputs": [],
   "source": [
    " mean = tf.reduce_mean(b)\n",
    "with tf.Session() as sess:\n",
    "    res = sess.run(mean)\n",
    "    print(res)\n",
    "    "
   ]
  },
  {
   "cell_type": "code",
   "execution_count": null,
   "metadata": {
    "collapsed": true
   },
   "outputs": [],
   "source": [
    "a=tf.subtract(x,result)\n",
    "b=tf.pow(a,2)\n",
    "var=tf.reduce_sum(b)\n",
    "sess.run(var)"
   ]
  },
  {
   "cell_type": "code",
   "execution_count": null,
   "metadata": {
    "collapsed": true
   },
   "outputs": [],
   "source": [
    "c=tf.subtract(y,res)\n",
    "d=tf.multiply(a,c)\n",
    "covar=tf.reduce_sum(d)\n",
    "sess.run(covar)"
   ]
  },
  {
   "cell_type": "code",
   "execution_count": null,
   "metadata": {
    "collapsed": true
   },
   "outputs": [],
   "source": [
    "val=tf.divide(covar,var)\n",
    "sess.run(val)"
   ]
  },
  {
   "cell_type": "code",
   "execution_count": null,
   "metadata": {
    "collapsed": true
   },
   "outputs": [],
   "source": [
    "e=tf.multiply(val,result)\n",
    "val1=tf.subtract(res,e)\n",
    "sess.run(val1)\n"
   ]
  },
  {
   "cell_type": "code",
   "execution_count": null,
   "metadata": {
    "collapsed": true
   },
   "outputs": [],
   "source": []
  }
 ],
 "metadata": {
  "anaconda-cloud": {},
  "kernelspec": {
   "display_name": "Python [default]",
   "language": "python",
   "name": "python3"
  },
  "language_info": {
   "codemirror_mode": {
    "name": "ipython",
    "version": 3
   },
   "file_extension": ".py",
   "mimetype": "text/x-python",
   "name": "python",
   "nbconvert_exporter": "python",
   "pygments_lexer": "ipython3",
   "version": "3.5.2"
  }
 },
 "nbformat": 4,
 "nbformat_minor": 1
}
